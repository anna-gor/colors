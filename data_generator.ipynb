{
 "cells": [
  {
   "cell_type": "code",
   "execution_count": 1,
   "metadata": {},
   "outputs": [],
   "source": [
    "n = 1000 #размер датасета\n",
    "path_cropped ='/home/ann/Documents/colors/cropped/' # путь к папке, где находятся фрагменты,из которых создается изображение\n",
    "path_saved_txt = \"/home/ann/Documents/colors/txt/\" # путь к папке, куда записываются созданные текстовые файлы с разметкой\n",
    "path_saved_png = \"/home/ann/Documents/colors/png/\" # путь к папке, где хранятся созданные изображения\n"
   ]
  },
  {
   "cell_type": "code",
   "execution_count": 2,
   "metadata": {},
   "outputs": [],
   "source": [
    "from PIL import Image\n",
    "import random"
   ]
  },
  {
   "cell_type": "code",
   "execution_count": 3,
   "metadata": {},
   "outputs": [
    {
     "name": "stderr",
     "output_type": "stream",
     "text": [
      "/home/ann/anaconda3/lib/python3.6/site-packages/PIL/Image.py:918: UserWarning: Palette images with Transparency   expressed in bytes should be converted to RGBA images\n",
      "  'to RGBA images')\n"
     ]
    }
   ],
   "source": [
    "img = Image.new('RGB', (256, 256), 'white')\n",
    "\n",
    "for glob in range(n):\n",
    "    f = open(path_saved_txt+str(glob)+\".txt\", 'w')\n",
    "    for j in range(8):\n",
    "        l=[]\n",
    "        for k in range(8):\n",
    "            l.append(random.randint(0,12))\n",
    "    \n",
    "        for i in range(8):\n",
    "            img.paste(Image.open(path_cropped+str(l[i])+'.png'),(i*32,j*32))\n",
    "            f.write(str(l[i]) + '\\t')\n",
    "        f.write('\\n')    \n",
    "    img.save(path_saved_png+str(glob)+\".png\")\n",
    "    f.close()"
   ]
  },
  {
   "cell_type": "code",
   "execution_count": null,
   "metadata": {},
   "outputs": [],
   "source": []
  }
 ],
 "metadata": {
  "kernelspec": {
   "display_name": "Python 3",
   "language": "python",
   "name": "python3"
  },
  "language_info": {
   "codemirror_mode": {
    "name": "ipython",
    "version": 3
   },
   "file_extension": ".py",
   "mimetype": "text/x-python",
   "name": "python",
   "nbconvert_exporter": "python",
   "pygments_lexer": "ipython3",
   "version": "3.6.5"
  }
 },
 "nbformat": 4,
 "nbformat_minor": 2
}
